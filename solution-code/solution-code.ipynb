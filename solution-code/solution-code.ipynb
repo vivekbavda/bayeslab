{
 "cells": [
  {
   "cell_type": "markdown",
   "metadata": {},
   "source": [
    "<img src=\"http://imgur.com/1ZcRyrc.png\" style=\"float: left; margin: 20px; height: 55px\">\n",
    "\n",
    "# Bayes' Rule Practice Lab\n",
    "\n",
    "This lab will have two parts:\n",
    "\n",
    "- Part 1: Bayes Practice Problems\n",
    "- Part 2: Moving from Probabilities to Distributions\n",
    "\n",
    "---"
   ]
  },
  {
   "cell_type": "markdown",
   "metadata": {},
   "source": [
    "---\n",
    "\n",
    "## Part 1: Bayes Practice Problems\n",
    "\n",
    "### Problem 1: IRAs\n",
    "\n",
    "You work at a financial services company that offers individual retirement accounts (IRAs). To target high potential customers, you want to find out if people with children are more likely to invest in IRAs.  \n",
    "\n",
    "So far you have found:\n",
    "- 30% of all Americans have IRAs.\n",
    "- half of Americans have children.\n",
    "- two-thirds of those with IRAs have children.\n",
    "\n",
    "Based on this information, what is the probability that someone with children has an IRA? "
   ]
  },
  {
   "cell_type": "markdown",
   "metadata": {},
   "source": [
    "**Answer:** Let $I$ be `\"has an IRA\"` and $C$ be `\"has children\"`. Then, we want to find $P(I|C)$ (the probability of having an IRA, given that someone has children).\n",
    "\n",
    "$$\n",
    "\\begin{eqnarray*}\n",
    "P(I|C) &=& \\frac{P(C|I)P(I)}{P(C)} \\\\\n",
    "&=& \\frac{\\frac{2}{3}\\cdot\\frac{3}{10}}{\\frac{1}{2}} \\\\\n",
    "&=& \\frac{\\frac{2}{10}}{\\frac{1}{2}} \\\\\n",
    "&=& \\frac{2}{10} \\times \\frac{2}{1} \\\\\n",
    "&=& \\frac{4}{10}\n",
    "\\end{eqnarray*}\n",
    "$$\n",
    "\n",
    "Given that somebody has children, the probability of them having an IRA is 40%."
   ]
  },
  {
   "cell_type": "markdown",
   "metadata": {},
   "source": [
    "---"
   ]
  },
  {
   "cell_type": "markdown",
   "metadata": {},
   "source": [
    "### Problem 2: Resident Satisfaction\n",
    "\n",
    "Suppose I own a hotel and an apartment building. Times are tight, and I need to sell one of them. Either would earn me the exact same amount of money, so that doesn't help me to make my decision. Instead, I will make my decision based on my residents' satisfaction. \n",
    "\n",
    "- Whichever building has a higher percentage of satisfied people is the one I will choose to keep.\n",
    "- *However*, if the percent of satisfied guests for my hotel and the percent of satified guests for my apartment building are within 10% of one another, I will sell neither until I can bring in some outside consultants to help me make my decision.\n",
    "- Last winter, I administered a survey to *all* residents and found that 60% of them are satisfied.\n",
    "- Among satisfied respondents, two out of every five came from the apartment building.\n",
    "- One-third of my residents live in my apartment building.\n",
    "\n",
    "What action will I take?"
   ]
  },
  {
   "cell_type": "markdown",
   "metadata": {},
   "source": [
    "**Answer:** Let $A$ be `\"resides in the apartment\"`, $H$ be `\"resides in the hotel\"`, and $S$ be `\"satisfied.\"` Then, we want to compare $P(S|A)$ (the probability of being satisfied, given that the person is in the apartment) with $P(S|H)$ (the probability of being satisfied, given that the person is in the hotel).\n",
    "\n",
    "$$\n",
    "\\begin{eqnarray*}\n",
    "P(S|A) &=& \\frac{P(A|S)P(S)}{P(A)} \\\\\n",
    "&=& \\frac{\\frac{2}{5}\\cdot\\frac{3}{5}}{\\frac{1}{3}} \\\\\n",
    "&=& \\frac{\\frac{6}{25}}{\\frac{1}{3}} \\\\\n",
    "&=& \\frac{6}{25} \\cdot \\frac{3}{1} \\\\\n",
    "&=& \\frac{18}{25} \\\\\n",
    "&=& 0.72\n",
    "\\end{eqnarray*}\n",
    "$$\n",
    "\n",
    "$$\n",
    "\\begin{eqnarray*}\n",
    "P(S|H) &=& \\frac{P(H|S)P(S)}{P(H)} \\\\\n",
    "&=& \\frac{\\frac{3}{5}\\cdot\\frac{3}{5}}{\\frac{2}{3}} \\\\\n",
    "&=& \\frac{\\frac{9}{25}}{\\frac{2}{3}} \\\\\n",
    "&=& \\frac{9}{25} \\cdot \\frac{3}{2} \\\\\n",
    "&=& \\frac{27}{50} \\\\\n",
    "&=& 0.54\n",
    "\\end{eqnarray*}\n",
    "$$\n",
    "\n",
    "- Among residents of the apartment, the satisfaction rate is 72%.\n",
    "- Among residents of the hotel, the satisfaction rate is 54%.\n",
    "- Because the residents of the apartment are substantially happier than the residents of the hotel, I will plan to sell the hotel."
   ]
  },
  {
   "cell_type": "markdown",
   "metadata": {},
   "source": [
    "---"
   ]
  },
  {
   "cell_type": "markdown",
   "metadata": {},
   "source": [
    "### Problem 3: Coin Game\n",
    "\n",
    "Suppose you and your friend are playing a game. Your friend has laid four coins out in front of you. If you flip heads, you win a dollar from your friend. If you flip tails, you owe a dollar to your friend. However, the coins in front of you are not fair.\n",
    "- One coin has a 80% chance of flipping heads. (Call this coin A.)\n",
    "- One coin has a 60% chance of flipping heads. (Call this coin B.)\n",
    "- One coin has a 40% chance of flipping heads. (Call this coin C.)\n",
    "- One coin has a 10% chance of flipping heads. (Call this coin D.)\n",
    "\n",
    "**Problem 3-a)** Suppose you select one coin at random. That is, you don't know whether you selected coin A, B, C, or D. You flip heads. Given this data, what are the probabilities that you selected coin A, coin B, coin C, and coin D?\n",
    "\n",
    "> Hint: When finding the marginal probability of flipping heads, you will need to use the Law of Total Probability! Find this **first**."
   ]
  },
  {
   "cell_type": "markdown",
   "metadata": {},
   "source": [
    "**Answer**:\n",
    "\n",
    "$$\n",
    "\\begin{eqnarray*}\n",
    "P(H) &=& P(H \\cap A) + P(H \\cap B) + P(H \\cap C) + P(H \\cap D) \\\\\n",
    "\\\\\n",
    "&=& P(H|A)P(A) + P(H|B)P(B) + P(H|C)P(C) + P(H|D)P(D) \\\\\n",
    "\\\\\n",
    "&=& \\frac{8}{10}\\cdot\\frac{1}{4} + \\frac{6}{10}\\cdot\\frac{1}{4} + \\frac{4}{10}\\cdot\\frac{1}{4} + \\frac{1}{10}\\cdot\\frac{1}{4} \\\\\n",
    "\\\\\n",
    "&=& \\frac{8}{40} + \\frac{6}{40} + \\frac{4}{40} + \\frac{1}{40} \\\\\n",
    "\\\\\n",
    "&=& \\frac{19}{40}\n",
    "\\end{eqnarray*}\n",
    "$$\n",
    "\n",
    "Since we found $P(H)$ first, we already have the values of $P(H|A)P(A)$, $P(H|B)P(B)$, $P(H|C)P(C)$, and $P(H|D)P(D)$.\n",
    "\n",
    "$$\n",
    "\\begin{eqnarray*}\n",
    "P(A|H) &=& \\frac{P(H|A)P(A)}{P(H)} \\\\\n",
    "\\\\\n",
    "&=& \\frac{\\frac{8}{10}\\cdot\\frac{1}{4}}{\\frac{19}{40}} \\\\\n",
    "\\\\\n",
    "&=& \\frac{\\frac{8}{40}}{\\frac{19}{40}} \\\\\n",
    "\\\\\n",
    "&=& \\frac{8}{19}\n",
    "\\end{eqnarray*}\n",
    "$$\n",
    "\n",
    "$$\n",
    "\\begin{eqnarray*}\n",
    "P(B|H) &=& \\frac{P(H|B)P(B)}{P(H)} \\\\\n",
    "\\\\\n",
    "&=& \\frac{\\frac{6}{10}\\cdot\\frac{1}{4}}{\\frac{19}{40}} \\\\\n",
    "\\\\\n",
    "&=& \\frac{\\frac{6}{40}}{\\frac{19}{40}} \\\\\n",
    "\\\\\n",
    "&=& \\frac{6}{19}\n",
    "\\end{eqnarray*}\n",
    "$$\n",
    "\n",
    "$$\n",
    "\\begin{eqnarray*}\n",
    "P(C|H) &=& \\frac{P(H|C)P(C)}{P(H)} \\\\\n",
    "\\\\\n",
    "&=& \\frac{\\frac{4}{10}\\cdot\\frac{1}{4}}{\\frac{19}{40}} \\\\\n",
    "\\\\\n",
    "&=& \\frac{\\frac{4}{40}}{\\frac{19}{40}} \\\\\n",
    "\\\\\n",
    "&=& \\frac{4}{19}\n",
    "\\end{eqnarray*}\n",
    "$$\n",
    "\n",
    "$$\n",
    "\\begin{eqnarray*}\n",
    "P(D|H) &=& \\frac{P(H|D)P(D)}{P(H)} \\\\\n",
    "\\\\\n",
    "&=& \\frac{\\frac{1}{10}\\cdot\\frac{1}{4}}{\\frac{19}{40}} \\\\\n",
    "\\\\\n",
    "&=& \\frac{\\frac{1}{40}}{\\frac{19}{40}} \\\\\n",
    "\\\\\n",
    "&=& \\frac{1}{19}\n",
    "\\end{eqnarray*}\n",
    "$$"
   ]
  },
  {
   "cell_type": "markdown",
   "metadata": {},
   "source": [
    "**BONUS: Problem 3-b)** Suppose you are using the same coin as before. That is, you _still_ don't know whether you selected coin A, B, C, or D - although you have a better idea now that you flipped heads on your first flip! On this second flip, you flip tails. Given this data, what are the probabilities that you selected coin A, coin B, coin C, and coin D?\n",
    "\n",
    "> Hint: Everything now is **conditional on the fact that we have already flipped a heads**.\n",
    "\n",
    "$$\n",
    "\\begin{eqnarray*}\n",
    "P(A|B\\cap C) &=& \\frac{P(A\\cap B \\cap C)}{P(B\\cap C)} \\\\\n",
    "\\\\\n",
    "&=& \\frac{P(A\\cap B|C)P(C)}{P(B|C)P(C)} \\\\\n",
    "\\\\\n",
    "&=& \\frac{P(A\\cap B|C)}{P(B|C)} \\\\\n",
    "\\end{eqnarray*}\n",
    "$$"
   ]
  },
  {
   "cell_type": "markdown",
   "metadata": {},
   "source": [
    "**Answer**:\n",
    "\n",
    "We want to find $P(A|H\\cap T)$, $P(B|H\\cap T)$, $P(C|H\\cap T)$, and $P(D|H\\cap T)$. \n",
    "\n",
    "By Bayes' Theorem, we have:\n",
    "\n",
    "$$\n",
    "\\begin{eqnarray*}\n",
    "P(A|T\\cap H) &=& \\frac{P(A\\cap T|H)}{P(T|H)} \\\\\n",
    "&=& \\frac{P(T|A\\cap H)P(A|H)}{P(T|H)} \\\\\n",
    "\\end{eqnarray*}\n",
    "$$\n",
    "\n",
    "It makes sense for us to find $P(T|H)$ first.\n",
    "\n",
    "$$\n",
    "\\begin{eqnarray*}\n",
    "P(T|H) &=& P(T\\cap A|H) + P(T\\cap B|H) + P(T\\cap C|H) + P(T\\cap D|H) \\\\\n",
    "\\\\\n",
    "&=& P(T|A\\cap H)P(A|H) + P(T|B\\cap H)P(B|H) + P(T|C\\cap H)P(C|H) + P(T|D\\cap H)P(D|H) \\\\\n",
    "\\\\\n",
    "&=& P(T|A)P(A|H) + P(T|B)P(B|H) + P(T|C)P(C|H) + P(T|D)P(D|H) \\\\\n",
    "\\\\\n",
    "&=& \\frac{2}{10}\\cdot\\frac{8}{19} + \\frac{4}{10}\\cdot\\frac{6}{19} + \\frac{6}{10}\\cdot\\frac{4}{19} + \\frac{9}{10}\\cdot\\frac{1}{19} \\\\\n",
    "\\\\\n",
    "&=& \\frac{16}{190} + \\frac{24}{190} + \\frac{24}{190} + \\frac{9}{190} \\\\\n",
    "\\\\\n",
    "&=& \\frac{73}{190}\n",
    "\\end{eqnarray*}\n",
    "$$\n",
    "\n",
    "$$\n",
    "\\begin{eqnarray*}\n",
    "P(A|T\\cap H) &=& \\frac{P(T|A\\cap H)P(A|H)}{P(T|H)} \\\\\n",
    "\\\\\n",
    "&=& \\frac{\\frac{2}{10}\\cdot\\frac{8}{19}}{\\frac{73}{190}} \\\\\n",
    "\\\\\n",
    "&=& \\frac{\\frac{16}{190}}{\\frac{73}{190}} \\\\\n",
    "\\\\\n",
    "&=& \\frac{16}{73} \\\\\n",
    "\\end{eqnarray*}\n",
    "$$\n",
    "\n",
    "$$\n",
    "\\begin{eqnarray*}\n",
    "P(B|T\\cap H) &=& \\frac{P(T|B\\cap H)P(B|H)}{P(T|H)} \\\\\n",
    "\\\\\n",
    "&=& \\frac{\\frac{4}{10}\\cdot\\frac{6}{19}}{\\frac{73}{190}} \\\\\n",
    "\\\\\n",
    "&=& \\frac{\\frac{24}{190}}{\\frac{73}{190}} \\\\\n",
    "\\\\\n",
    "&=& \\frac{24}{73} \\\\\n",
    "\\end{eqnarray*}\n",
    "$$\n",
    "\n",
    "$$\n",
    "\\begin{eqnarray*}\n",
    "P(C|T\\cap H) &=& \\frac{P(T|C\\cap H)P(C|H)}{P(T|H)} \\\\\n",
    "\\\\\n",
    "&=& \\frac{\\frac{6}{10}\\cdot\\frac{4}{19}}{\\frac{73}{190}} \\\\\n",
    "\\\\\n",
    "&=& \\frac{\\frac{24}{190}}{\\frac{73}{190}} \\\\\n",
    "\\\\\n",
    "&=& \\frac{24}{73} \\\\\n",
    "\\end{eqnarray*}\n",
    "$$\n",
    "\n",
    "$$\n",
    "\\begin{eqnarray*}\n",
    "P(D|T\\cap H) &=& \\frac{P(T|D\\cap H)P(D|H)}{P(T|H)} \\\\\n",
    "\\\\\n",
    "&=& \\frac{\\frac{9}{10}\\cdot\\frac{1}{19}}{\\frac{73}{190}} \\\\\n",
    "\\\\\n",
    "&=& \\frac{\\frac{9}{190}}{\\frac{73}{190}} \\\\\n",
    "\\\\\n",
    "&=& \\frac{9}{73} \\\\\n",
    "\\end{eqnarray*}\n",
    "$$"
   ]
  },
  {
   "cell_type": "markdown",
   "metadata": {},
   "source": [
    "**BONUS: Problem 3-c)** Suppose you are using the same coin as before. That is, you _still_ don't know whether you selected coin A, B, C, or D - although you have a better idea now that you flipped heads, then tails on your first two flips! On this third flip, you flip tails. Given this data, what are the probabilities that you selected coin A, coin B, coin C, and coin D?\n",
    "\n",
    "> Hint: This will follow the same structure as the last two problems."
   ]
  },
  {
   "cell_type": "markdown",
   "metadata": {},
   "source": [
    "**Answer**:"
   ]
  },
  {
   "cell_type": "markdown",
   "metadata": {},
   "source": [
    "---\n",
    "\n",
    "## Part 2: Moving from Probabilities to Distributions\n",
    "\n",
    "### Problem 4: Prior Probabilities\n",
    "\n",
    "**Problem 4(a)**: In Problem 3, before you had flipped any coin, what was the probability that you had selected coin A? Coin B? Coin C? Coin D?"
   ]
  },
  {
   "cell_type": "markdown",
   "metadata": {},
   "source": [
    "**Answer:** The probability of selecting each coin is 25%."
   ]
  },
  {
   "cell_type": "markdown",
   "metadata": {},
   "source": [
    "**Problem 4(b)**: What is the definition of a distribution?\n",
    "> Check your notes from the early weeks of the course if you can't remember."
   ]
  },
  {
   "cell_type": "markdown",
   "metadata": {},
   "source": [
    "**Answer:** The distribution is the set of all values of a variable and how frequently we observe each value."
   ]
  },
  {
   "cell_type": "markdown",
   "metadata": {},
   "source": [
    "**Problem 4(c)**: What \"named distribution\" (i.e. a distribution that has a common name) could we apply to a situation where selecting coins A-D is equally likely?"
   ]
  },
  {
   "cell_type": "markdown",
   "metadata": {},
   "source": [
    "**Answer:** We could use a discrete uniform distribution."
   ]
  },
  {
   "cell_type": "markdown",
   "metadata": {},
   "source": [
    "**Problem 4(d)**: Suppose that I have only one coin and I want to conduct inference on the probability of flipping heads, $p$. Note that $p$ is unknown. If I want to specify some prior distribution where all probabilities $p$ are equally likely, should I use a discrete or continuous distribution? Why?"
   ]
  },
  {
   "cell_type": "markdown",
   "metadata": {},
   "source": [
    "**Answer:** We want to conduct inference on our parameter $p$, which takes on an uncountably infinite number of values between 0 and 1. Since the values are uncountably infinite, we should pick a continuous distribution. "
   ]
  },
  {
   "cell_type": "markdown",
   "metadata": {},
   "source": [
    "**Problem 4(e)**: Suppose that I have only one coin and I want to conduct inference on the probability of flipping heads, $p$. Note that $p$ is unknown. If I want to specify some prior distribution where all probabilities $p$ are equally likely, then what named distribution might I use?"
   ]
  },
  {
   "cell_type": "markdown",
   "metadata": {},
   "source": [
    "**Answer:** We should use a Continuous Uniform distribution on $[0,1]$."
   ]
  },
  {
   "cell_type": "markdown",
   "metadata": {},
   "source": [
    "**Problem 4(f)**: Suppose I have only one coin with some unknown probability of flipping heads $p$. If I think 50% is the likeliest value for $p$ and, as we get farther away from 50%, that value is less and less likely, what named distribution could I use?"
   ]
  },
  {
   "cell_type": "markdown",
   "metadata": {},
   "source": [
    "**Answer:** _(Answers may vary.)_\n",
    "\n",
    "- We might use a Normal distribution with a mean of 50%. In this case, the likeliest value for $p$ is 50% and each value for $p$ is less likely as we get farther from 50%. We'll want to select a $\\sigma$ that accurately reflects how much certainty we have in 50%. For example, if we use a $Normal(0.5,0.5)$, then we're relatively uncertain in the true value. If we use a $Normal(0.5, 0.01)$, though, we are much more certain that 50% is the best value. (In this case, 99.7% of observations would be between 0.47 and 0.53.)\n",
    "    - One downside to this choice is that the Normal distribution is supported between $-\\infty$ and $+\\infty$. Thus, we will have positive probabilities outside of $[0,1]$. We'll want to select a $\\sigma$ value that minimizes how much [leakage](https://arxiv.org/abs/1201.3611) we observe. (Leakage just means predicting values that are not possible.)\n",
    "- If you're familiar with the [Beta distribution](https://en.wikipedia.org/wiki/Beta_distribution), this is a great choice for probabilities because it is a continuous distribution defined between 0 and 1. In this case, we might select a $Beta(\\alpha, \\beta)$ where $\\alpha = \\beta$. If $\\alpha = \\beta$, then the distribution is symmetric. If $\\alpha$ and $\\beta$ are both greater than 1, then the mode (peak) will be at 0.5.\n",
    "    - If you aren't familiar with this distribution yet, you will be soon!"
   ]
  },
  {
   "cell_type": "markdown",
   "metadata": {},
   "source": [
    "**Problem 4(g)**: When we listed out our prior probabilities for each coin, we got the same number of posterior probabilities. For example, when we had four prior probabilities (one for Coin A, one for Coin B, one for Coin C, and one for Coin D), then we had four posterior probabilities (one for Coin A, for Coin B, one for Coin C, and one for Coin D). However, if we have one prior distribution, then we will get one posterior distribution. What are some advantages to being able to summarize our posterior with one distribution instead of a big list of probabilities?"
   ]
  },
  {
   "cell_type": "markdown",
   "metadata": {},
   "source": [
    "**Answer:** _(Answers will vary.)_\n",
    "\n",
    "- If we only need to compute one posterior distribution instead of many posterior probabilities, then we don't have to do as many manual calculations.\n",
    "- If we have an uncountable number of possibilities for our prior, we cannot actually enumerate all possible posteriors. Therefore, one posterior distribution is the only way for us to properly study posterior probabilities in this case."
   ]
  }
 ],
 "metadata": {
  "kernelspec": {
   "display_name": "Python 3",
   "language": "python",
   "name": "python3"
  },
  "language_info": {
   "codemirror_mode": {
    "name": "ipython",
    "version": 3
   },
   "file_extension": ".py",
   "mimetype": "text/x-python",
   "name": "python",
   "nbconvert_exporter": "python",
   "pygments_lexer": "ipython3",
   "version": "3.7.6"
  }
 },
 "nbformat": 4,
 "nbformat_minor": 2
}
